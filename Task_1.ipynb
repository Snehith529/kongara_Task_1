{
 "cells": [
  {
   "cell_type": "markdown",
   "id": "8776a509",
   "metadata": {},
   "source": [
    "## load the libraries"
   ]
  },
  {
   "cell_type": "code",
   "execution_count": 1,
   "id": "021e5772",
   "metadata": {},
   "outputs": [],
   "source": [
    "##\n",
    "import pandas as pd\n",
    "import numpy as np\n",
    "from sklearn.model_selection import train_test_split\n",
    "from tensorflow.keras.models import Sequential\n",
    "from tensorflow.keras.layers import Dense\n",
    "from tensorflow.keras.utils import to_categorical\n",
    "from tensorflow.keras.optimizers import RMSprop\n",
    "from tensorflow.keras.models import Sequential\n",
    "from tensorflow.keras.layers import Conv1D, MaxPooling1D, Flatten, Dense"
   ]
  },
  {
   "cell_type": "markdown",
   "id": "c5e94938",
   "metadata": {},
   "source": [
    "## Load the data"
   ]
  },
  {
   "cell_type": "code",
   "execution_count": 3,
   "id": "f30f2eb4",
   "metadata": {},
   "outputs": [],
   "source": [
    "data = pd.read_csv(\"data.csv\", \n",
    "                   delimiter=\",\",\n",
    "                  )"
   ]
  },
  {
   "cell_type": "code",
   "execution_count": 4,
   "id": "59062fb3",
   "metadata": {},
   "outputs": [
    {
     "data": {
      "text/html": [
       "<div>\n",
       "<style scoped>\n",
       "    .dataframe tbody tr th:only-of-type {\n",
       "        vertical-align: middle;\n",
       "    }\n",
       "\n",
       "    .dataframe tbody tr th {\n",
       "        vertical-align: top;\n",
       "    }\n",
       "\n",
       "    .dataframe thead th {\n",
       "        text-align: right;\n",
       "    }\n",
       "</style>\n",
       "<table border=\"1\" class=\"dataframe\">\n",
       "  <thead>\n",
       "    <tr style=\"text-align: right;\">\n",
       "      <th></th>\n",
       "      <th>unix Timestamp</th>\n",
       "      <th>ACC X</th>\n",
       "      <th>Light</th>\n",
       "    </tr>\n",
       "  </thead>\n",
       "  <tbody>\n",
       "    <tr>\n",
       "      <th>0</th>\n",
       "      <td>1.680900e+12</td>\n",
       "      <td>1.077344</td>\n",
       "      <td>3</td>\n",
       "    </tr>\n",
       "    <tr>\n",
       "      <th>1</th>\n",
       "      <td>1.680900e+12</td>\n",
       "      <td>0.864270</td>\n",
       "      <td>3</td>\n",
       "    </tr>\n",
       "    <tr>\n",
       "      <th>2</th>\n",
       "      <td>1.680900e+12</td>\n",
       "      <td>0.981580</td>\n",
       "      <td>3</td>\n",
       "    </tr>\n",
       "    <tr>\n",
       "      <th>3</th>\n",
       "      <td>1.680900e+12</td>\n",
       "      <td>0.553037</td>\n",
       "      <td>3</td>\n",
       "    </tr>\n",
       "    <tr>\n",
       "      <th>4</th>\n",
       "      <td>1.680900e+12</td>\n",
       "      <td>0.600919</td>\n",
       "      <td>3</td>\n",
       "    </tr>\n",
       "  </tbody>\n",
       "</table>\n",
       "</div>"
      ],
      "text/plain": [
       "   unix Timestamp     ACC X  Light\n",
       "0    1.680900e+12  1.077344      3\n",
       "1    1.680900e+12  0.864270      3\n",
       "2    1.680900e+12  0.981580      3\n",
       "3    1.680900e+12  0.553037      3\n",
       "4    1.680900e+12  0.600919      3"
      ]
     },
     "execution_count": 4,
     "metadata": {},
     "output_type": "execute_result"
    }
   ],
   "source": [
    "data.head()"
   ]
  },
  {
   "cell_type": "code",
   "execution_count": 5,
   "id": "03632178",
   "metadata": {},
   "outputs": [
    {
     "data": {
      "text/plain": [
       "(137500, 3)"
      ]
     },
     "execution_count": 5,
     "metadata": {},
     "output_type": "execute_result"
    }
   ],
   "source": [
    "data.shape"
   ]
  },
  {
   "cell_type": "code",
   "execution_count": 6,
   "id": "45451554",
   "metadata": {},
   "outputs": [],
   "source": [
    "labels = pd.read_csv(\"label.csv\")"
   ]
  },
  {
   "cell_type": "code",
   "execution_count": 7,
   "id": "0c21410a",
   "metadata": {},
   "outputs": [
    {
     "data": {
      "text/html": [
       "<div>\n",
       "<style scoped>\n",
       "    .dataframe tbody tr th:only-of-type {\n",
       "        vertical-align: middle;\n",
       "    }\n",
       "\n",
       "    .dataframe tbody tr th {\n",
       "        vertical-align: top;\n",
       "    }\n",
       "\n",
       "    .dataframe thead th {\n",
       "        text-align: right;\n",
       "    }\n",
       "</style>\n",
       "<table border=\"1\" class=\"dataframe\">\n",
       "  <thead>\n",
       "    <tr style=\"text-align: right;\">\n",
       "      <th></th>\n",
       "      <th>labels</th>\n",
       "    </tr>\n",
       "  </thead>\n",
       "  <tbody>\n",
       "    <tr>\n",
       "      <th>0</th>\n",
       "      <td>1</td>\n",
       "    </tr>\n",
       "    <tr>\n",
       "      <th>1</th>\n",
       "      <td>1</td>\n",
       "    </tr>\n",
       "    <tr>\n",
       "      <th>2</th>\n",
       "      <td>1</td>\n",
       "    </tr>\n",
       "    <tr>\n",
       "      <th>3</th>\n",
       "      <td>2</td>\n",
       "    </tr>\n",
       "    <tr>\n",
       "      <th>4</th>\n",
       "      <td>2</td>\n",
       "    </tr>\n",
       "  </tbody>\n",
       "</table>\n",
       "</div>"
      ],
      "text/plain": [
       "   labels\n",
       "0       1\n",
       "1       1\n",
       "2       1\n",
       "3       2\n",
       "4       2"
      ]
     },
     "execution_count": 7,
     "metadata": {},
     "output_type": "execute_result"
    }
   ],
   "source": [
    "labels.head()\n"
   ]
  },
  {
   "cell_type": "code",
   "execution_count": 8,
   "id": "3889f1ef",
   "metadata": {},
   "outputs": [],
   "source": [
    "labels['labels']= labels['labels'].apply(lambda x: x-1)"
   ]
  },
  {
   "cell_type": "code",
   "execution_count": 9,
   "id": "f42a0f71",
   "metadata": {},
   "outputs": [
    {
     "data": {
      "text/plain": [
       "(55, 1)"
      ]
     },
     "execution_count": 9,
     "metadata": {},
     "output_type": "execute_result"
    }
   ],
   "source": [
    "labels.shape"
   ]
  },
  {
   "cell_type": "markdown",
   "id": "e22816c5",
   "metadata": {},
   "source": [
    "## Process the data"
   ]
  },
  {
   "cell_type": "code",
   "execution_count": 10,
   "id": "bba07d8e",
   "metadata": {},
   "outputs": [],
   "source": [
    "data = data[['ACC X', 'Light']]  \n",
    "data = data.values.reshape(-1, 2500, 2) \n",
    "labels = labels.values"
   ]
  },
  {
   "cell_type": "code",
   "execution_count": 11,
   "id": "f3c07122",
   "metadata": {},
   "outputs": [
    {
     "data": {
      "text/plain": [
       "(55, 2500, 2)"
      ]
     },
     "execution_count": 11,
     "metadata": {},
     "output_type": "execute_result"
    }
   ],
   "source": [
    "data.shape"
   ]
  },
  {
   "cell_type": "markdown",
   "id": "cc5b95fa",
   "metadata": {},
   "source": [
    "## Define the CNN Model"
   ]
  },
  {
   "cell_type": "code",
   "execution_count": 12,
   "id": "c1722a78",
   "metadata": {},
   "outputs": [],
   "source": [
    "model = Sequential([\n",
    "    Conv1D(filters=8, kernel_size=3, activation='relu', input_shape=(2500, 2)),\n",
    "    MaxPooling1D(pool_size=2),\n",
    "#     Conv1D(filters=64, kernel_size=3, activation='relu'),\n",
    "#     MaxPooling1D(pool_size=2),\n",
    "    Flatten(),\n",
    "#     Dense(64, activation='relu'),\n",
    "    Dense(3, activation='softmax')  \n",
    "])\n",
    "\n",
    "optimizer = RMSprop(learning_rate=0.001)\n",
    "# Compile the model\n",
    "model.compile(optimizer=optimizer, loss='sparse_categorical_crossentropy', metrics=['accuracy'])\n",
    "\n"
   ]
  },
  {
   "cell_type": "markdown",
   "id": "f13aed50",
   "metadata": {},
   "source": [
    "## Train the Model"
   ]
  },
  {
   "cell_type": "code",
   "execution_count": 13,
   "id": "59622831",
   "metadata": {},
   "outputs": [
    {
     "name": "stdout",
     "output_type": "stream",
     "text": [
      "Epoch 1/10\n",
      "55/55 [==============================] - 5s 11ms/step - loss: 2.6762 - accuracy: 0.4000\n",
      "Epoch 2/10\n",
      "55/55 [==============================] - 0s 6ms/step - loss: 1.4277 - accuracy: 0.4364\n",
      "Epoch 3/10\n",
      "55/55 [==============================] - 0s 6ms/step - loss: 0.5866 - accuracy: 0.7818\n",
      "Epoch 4/10\n",
      "55/55 [==============================] - 0s 6ms/step - loss: 0.4365 - accuracy: 0.8545\n",
      "Epoch 5/10\n",
      "55/55 [==============================] - 0s 6ms/step - loss: 0.1190 - accuracy: 0.9818\n",
      "Epoch 6/10\n",
      "55/55 [==============================] - 1s 10ms/step - loss: 0.1036 - accuracy: 0.9636\n",
      "Epoch 7/10\n",
      "55/55 [==============================] - 0s 7ms/step - loss: 0.0249 - accuracy: 1.0000\n",
      "Epoch 8/10\n",
      "55/55 [==============================] - 0s 6ms/step - loss: 0.0151 - accuracy: 1.0000\n",
      "Epoch 9/10\n",
      "55/55 [==============================] - 0s 7ms/step - loss: 0.0113 - accuracy: 1.0000\n",
      "Epoch 10/10\n",
      "55/55 [==============================] - 1s 12ms/step - loss: 0.0102 - accuracy: 1.0000\n"
     ]
    },
    {
     "data": {
      "text/plain": [
       "<keras.src.callbacks.History at 0x25f9b2db0a0>"
      ]
     },
     "execution_count": 13,
     "metadata": {},
     "output_type": "execute_result"
    }
   ],
   "source": [
    "model.fit(data, labels, epochs=10, batch_size=1)"
   ]
  },
  {
   "cell_type": "code",
   "execution_count": 33,
   "id": "94567865",
   "metadata": {},
   "outputs": [
    {
     "name": "stdout",
     "output_type": "stream",
     "text": [
      "2/2 [==============================] - 1s 11ms/step\n"
     ]
    }
   ],
   "source": [
    "predictions = model.predict(data)\n"
   ]
  },
  {
   "cell_type": "code",
   "execution_count": 35,
   "id": "f6d791aa",
   "metadata": {},
   "outputs": [
    {
     "data": {
      "text/plain": [
       "array([[9.99981165e-01, 1.87751702e-05, 4.94998131e-09],\n",
       "       [9.98600900e-01, 1.28012977e-03, 1.18948432e-04],\n",
       "       [9.99881148e-01, 1.08746797e-04, 1.01098112e-05],\n",
       "       [2.65498093e-04, 9.99617696e-01, 1.16725452e-04],\n",
       "       [1.14102340e-05, 9.99985337e-01, 3.22364485e-06],\n",
       "       [1.58015882e-06, 9.99998331e-01, 1.23071288e-07],\n",
       "       [2.28370245e-05, 2.87479692e-04, 9.99689698e-01],\n",
       "       [5.04141717e-05, 9.99949098e-01, 4.55437089e-07],\n",
       "       [9.99538660e-01, 4.15226968e-04, 4.61222262e-05],\n",
       "       [9.99012113e-01, 8.98103928e-04, 8.97466452e-05],\n",
       "       [1.17331219e-04, 9.99870062e-01, 1.26528976e-05],\n",
       "       [1.42345356e-03, 9.97794747e-01, 7.81873183e-04],\n",
       "       [6.99178490e-05, 2.21880415e-04, 9.99708235e-01],\n",
       "       [5.89314959e-06, 9.99936461e-01, 5.76788116e-05],\n",
       "       [1.70668573e-04, 1.26866653e-04, 9.99702394e-01],\n",
       "       [1.68401879e-04, 9.99824703e-01, 6.85995019e-06],\n",
       "       [3.59290461e-05, 9.99964118e-01, 3.32575425e-08],\n",
       "       [9.99741495e-01, 2.49453034e-04, 9.01400745e-06],\n",
       "       [9.99351919e-01, 3.45118518e-04, 3.02987843e-04],\n",
       "       [9.99764740e-01, 2.35277330e-04, 1.55058757e-08],\n",
       "       [7.07860017e-05, 1.97305155e-04, 9.99731839e-01],\n",
       "       [1.26786006e-04, 9.99869466e-01, 3.67912935e-06],\n",
       "       [8.39341956e-05, 9.99819338e-01, 9.67252054e-05],\n",
       "       [9.99495149e-01, 4.59154049e-04, 4.56912312e-05],\n",
       "       [3.10436044e-05, 1.54279274e-04, 9.99814689e-01],\n",
       "       [9.99555051e-01, 4.42213262e-04, 2.70628561e-06],\n",
       "       [9.99688625e-01, 2.19168607e-04, 9.22839390e-05],\n",
       "       [1.33349648e-04, 7.18002775e-05, 9.99794900e-01],\n",
       "       [4.37354493e-06, 9.99990940e-01, 4.63874676e-06],\n",
       "       [1.55950518e-04, 9.99841094e-01, 2.96029862e-06],\n",
       "       [1.97347283e-04, 4.26405546e-04, 9.99376237e-01],\n",
       "       [1.96340625e-05, 9.99952078e-01, 2.82858055e-05],\n",
       "       [4.97848378e-05, 2.09101054e-04, 9.99741137e-01],\n",
       "       [3.94035742e-05, 9.99891281e-01, 6.92381800e-05],\n",
       "       [9.99938846e-01, 5.65798473e-05, 4.49167055e-06],\n",
       "       [9.99831438e-01, 1.63930497e-04, 4.67204745e-06],\n",
       "       [8.75183832e-05, 9.99895692e-01, 1.67493872e-05],\n",
       "       [8.69628877e-07, 9.99999046e-01, 9.41908027e-08],\n",
       "       [9.99574125e-01, 3.30385665e-04, 9.55023570e-05],\n",
       "       [9.99324203e-01, 6.69230300e-04, 6.56678776e-06],\n",
       "       [9.99983311e-01, 1.66514528e-05, 2.97048652e-09],\n",
       "       [1.47454966e-06, 9.99998450e-01, 7.34814449e-08],\n",
       "       [6.96648499e-07, 9.99997020e-01, 2.24219821e-06],\n",
       "       [9.99998689e-01, 6.77215780e-07, 6.47527713e-07],\n",
       "       [9.99931097e-01, 6.54965770e-05, 3.39943267e-06],\n",
       "       [9.99894857e-01, 6.42413361e-05, 4.09299937e-05],\n",
       "       [2.62028898e-05, 5.46801721e-06, 9.99968290e-01],\n",
       "       [9.90081503e-07, 9.99983668e-01, 1.53462752e-05],\n",
       "       [2.78830930e-06, 9.99994397e-01, 2.83975919e-06],\n",
       "       [1.00000000e+00, 4.03757930e-11, 6.23230001e-09],\n",
       "       [1.20060895e-05, 9.99983430e-01, 4.53680832e-06],\n",
       "       [2.96205457e-07, 9.52124265e-06, 9.99990225e-01],\n",
       "       [3.46894558e-05, 9.99962449e-01, 2.87772400e-06],\n",
       "       [1.75562866e-06, 9.99998212e-01, 9.73172237e-11],\n",
       "       [9.99767508e-06, 3.12390839e-05, 9.99958754e-01]], dtype=float32)"
      ]
     },
     "execution_count": 35,
     "metadata": {},
     "output_type": "execute_result"
    }
   ],
   "source": [
    "predictions"
   ]
  },
  {
   "cell_type": "markdown",
   "id": "9e4ce02b",
   "metadata": {},
   "source": [
    "## Save the model"
   ]
  },
  {
   "cell_type": "code",
   "execution_count": 36,
   "id": "8b4b8ebe",
   "metadata": {},
   "outputs": [],
   "source": [
    "predicted_labels = np.argmax(predictions, axis=1) + 1"
   ]
  },
  {
   "cell_type": "code",
   "execution_count": 37,
   "id": "91db76ec",
   "metadata": {},
   "outputs": [
    {
     "data": {
      "text/plain": [
       "array([1, 1, 1, 2, 2, 2, 3, 2, 1, 1, 2, 2, 3, 2, 3, 2, 2, 1, 1, 1, 3, 2,\n",
       "       2, 1, 3, 1, 1, 3, 2, 2, 3, 2, 3, 2, 1, 1, 2, 2, 1, 1, 1, 2, 2, 1,\n",
       "       1, 1, 3, 2, 2, 1, 2, 3, 2, 2, 3], dtype=int64)"
      ]
     },
     "execution_count": 37,
     "metadata": {},
     "output_type": "execute_result"
    }
   ],
   "source": [
    "predicted_labels"
   ]
  },
  {
   "cell_type": "code",
   "execution_count": 39,
   "id": "89236873",
   "metadata": {},
   "outputs": [
    {
     "name": "stdout",
     "output_type": "stream",
     "text": [
      "Model predictions saved in output.txt.\n"
     ]
    }
   ],
   "source": [
    "with open('output.txt', 'w') as f:\n",
    "    for pred in predicted_labels:\n",
    "        f.write(str(pred)+'\\n')\n",
    "print(\"Model predictions saved in output.txt.\")"
   ]
  },
  {
   "cell_type": "code",
   "execution_count": 40,
   "id": "600edb07",
   "metadata": {},
   "outputs": [
    {
     "name": "stderr",
     "output_type": "stream",
     "text": [
      "C:\\Users\\snehi\\anaconda3\\lib\\site-packages\\keras\\src\\engine\\training.py:3000: UserWarning: You are saving your model as an HDF5 file via `model.save()`. This file format is considered legacy. We recommend using instead the native Keras format, e.g. `model.save('my_model.keras')`.\n",
      "  saving_api.save_model(\n"
     ]
    }
   ],
   "source": [
    "# Save the model in .h5 format\n",
    "model.save('model.h5')"
   ]
  }
 ],
 "metadata": {
  "kernelspec": {
   "display_name": "Python 3 (ipykernel)",
   "language": "python",
   "name": "python3"
  },
  "language_info": {
   "codemirror_mode": {
    "name": "ipython",
    "version": 3
   },
   "file_extension": ".py",
   "mimetype": "text/x-python",
   "name": "python",
   "nbconvert_exporter": "python",
   "pygments_lexer": "ipython3",
   "version": "3.9.13"
  }
 },
 "nbformat": 4,
 "nbformat_minor": 5
}
