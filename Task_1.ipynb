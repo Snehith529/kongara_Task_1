{
 "cells": [
  {
   "cell_type": "code",
   "execution_count": 1,
   "id": "021e5772",
   "metadata": {},
   "outputs": [],
   "source": [
    "import pandas as pd\n",
    "import numpy as np"
   ]
  },
  {
   "cell_type": "code",
   "execution_count": 23,
   "id": "6864b657",
   "metadata": {},
   "outputs": [],
   "source": [
    "from sklearn.model_selection import train_test_split\n",
    "from tensorflow.keras.models import Sequential\n",
    "from tensorflow.keras.layers import Dense\n",
    "from tensorflow.keras.utils import to_categorical\n",
    "from tensorflow.keras.optimizers import RMSprop\n",
    "from tensorflow.keras.models import Sequential\n",
    "from tensorflow.keras.layers import Conv1D, MaxPooling1D, Flatten, Dense"
   ]
  },
  {
   "cell_type": "code",
   "execution_count": 3,
   "id": "f30f2eb4",
   "metadata": {},
   "outputs": [],
   "source": [
    "data = pd.read_csv(\"data.csv\", \n",
    "                   delimiter=\",\",\n",
    "                  )"
   ]
  },
  {
   "cell_type": "code",
   "execution_count": 4,
   "id": "59062fb3",
   "metadata": {},
   "outputs": [
    {
     "data": {
      "text/html": [
       "<div>\n",
       "<style scoped>\n",
       "    .dataframe tbody tr th:only-of-type {\n",
       "        vertical-align: middle;\n",
       "    }\n",
       "\n",
       "    .dataframe tbody tr th {\n",
       "        vertical-align: top;\n",
       "    }\n",
       "\n",
       "    .dataframe thead th {\n",
       "        text-align: right;\n",
       "    }\n",
       "</style>\n",
       "<table border=\"1\" class=\"dataframe\">\n",
       "  <thead>\n",
       "    <tr style=\"text-align: right;\">\n",
       "      <th></th>\n",
       "      <th>unix Timestamp</th>\n",
       "      <th>ACC X</th>\n",
       "      <th>Light</th>\n",
       "    </tr>\n",
       "  </thead>\n",
       "  <tbody>\n",
       "    <tr>\n",
       "      <th>0</th>\n",
       "      <td>1.680900e+12</td>\n",
       "      <td>1.077344</td>\n",
       "      <td>3</td>\n",
       "    </tr>\n",
       "    <tr>\n",
       "      <th>1</th>\n",
       "      <td>1.680900e+12</td>\n",
       "      <td>0.864270</td>\n",
       "      <td>3</td>\n",
       "    </tr>\n",
       "    <tr>\n",
       "      <th>2</th>\n",
       "      <td>1.680900e+12</td>\n",
       "      <td>0.981580</td>\n",
       "      <td>3</td>\n",
       "    </tr>\n",
       "    <tr>\n",
       "      <th>3</th>\n",
       "      <td>1.680900e+12</td>\n",
       "      <td>0.553037</td>\n",
       "      <td>3</td>\n",
       "    </tr>\n",
       "    <tr>\n",
       "      <th>4</th>\n",
       "      <td>1.680900e+12</td>\n",
       "      <td>0.600919</td>\n",
       "      <td>3</td>\n",
       "    </tr>\n",
       "  </tbody>\n",
       "</table>\n",
       "</div>"
      ],
      "text/plain": [
       "   unix Timestamp     ACC X  Light\n",
       "0    1.680900e+12  1.077344      3\n",
       "1    1.680900e+12  0.864270      3\n",
       "2    1.680900e+12  0.981580      3\n",
       "3    1.680900e+12  0.553037      3\n",
       "4    1.680900e+12  0.600919      3"
      ]
     },
     "execution_count": 4,
     "metadata": {},
     "output_type": "execute_result"
    }
   ],
   "source": [
    "data.head()"
   ]
  },
  {
   "cell_type": "code",
   "execution_count": 5,
   "id": "03632178",
   "metadata": {},
   "outputs": [
    {
     "data": {
      "text/plain": [
       "(137500, 3)"
      ]
     },
     "execution_count": 5,
     "metadata": {},
     "output_type": "execute_result"
    }
   ],
   "source": [
    "data.shape"
   ]
  },
  {
   "cell_type": "code",
   "execution_count": 6,
   "id": "45451554",
   "metadata": {},
   "outputs": [],
   "source": [
    "labels = pd.read_csv(\"label.csv\")"
   ]
  },
  {
   "cell_type": "code",
   "execution_count": 7,
   "id": "0c21410a",
   "metadata": {},
   "outputs": [
    {
     "data": {
      "text/html": [
       "<div>\n",
       "<style scoped>\n",
       "    .dataframe tbody tr th:only-of-type {\n",
       "        vertical-align: middle;\n",
       "    }\n",
       "\n",
       "    .dataframe tbody tr th {\n",
       "        vertical-align: top;\n",
       "    }\n",
       "\n",
       "    .dataframe thead th {\n",
       "        text-align: right;\n",
       "    }\n",
       "</style>\n",
       "<table border=\"1\" class=\"dataframe\">\n",
       "  <thead>\n",
       "    <tr style=\"text-align: right;\">\n",
       "      <th></th>\n",
       "      <th>labels</th>\n",
       "    </tr>\n",
       "  </thead>\n",
       "  <tbody>\n",
       "    <tr>\n",
       "      <th>0</th>\n",
       "      <td>1</td>\n",
       "    </tr>\n",
       "    <tr>\n",
       "      <th>1</th>\n",
       "      <td>1</td>\n",
       "    </tr>\n",
       "    <tr>\n",
       "      <th>2</th>\n",
       "      <td>1</td>\n",
       "    </tr>\n",
       "    <tr>\n",
       "      <th>3</th>\n",
       "      <td>2</td>\n",
       "    </tr>\n",
       "    <tr>\n",
       "      <th>4</th>\n",
       "      <td>2</td>\n",
       "    </tr>\n",
       "  </tbody>\n",
       "</table>\n",
       "</div>"
      ],
      "text/plain": [
       "   labels\n",
       "0       1\n",
       "1       1\n",
       "2       1\n",
       "3       2\n",
       "4       2"
      ]
     },
     "execution_count": 7,
     "metadata": {},
     "output_type": "execute_result"
    }
   ],
   "source": [
    "labels.head()"
   ]
  },
  {
   "cell_type": "code",
   "execution_count": 8,
   "id": "f42a0f71",
   "metadata": {},
   "outputs": [
    {
     "data": {
      "text/plain": [
       "(55, 1)"
      ]
     },
     "execution_count": 8,
     "metadata": {},
     "output_type": "execute_result"
    }
   ],
   "source": [
    "labels.shape"
   ]
  },
  {
   "cell_type": "code",
   "execution_count": 9,
   "id": "bba07d8e",
   "metadata": {},
   "outputs": [],
   "source": [
    "data = data[['ACC X', 'Light']]  \n",
    "data = data.values.reshape(-1, 2500, 2) \n",
    "labels = labels.values"
   ]
  },
  {
   "cell_type": "code",
   "execution_count": 13,
   "id": "f3c07122",
   "metadata": {},
   "outputs": [
    {
     "data": {
      "text/plain": [
       "(55, 2500, 2)"
      ]
     },
     "execution_count": 13,
     "metadata": {},
     "output_type": "execute_result"
    }
   ],
   "source": [
    "data.shape"
   ]
  },
  {
   "cell_type": "code",
   "execution_count": 24,
   "id": "c1722a78",
   "metadata": {},
   "outputs": [
    {
     "name": "stdout",
     "output_type": "stream",
     "text": [
      "Epoch 1/10\n",
      "55/55 [==============================] - 1s 10ms/step - loss: 4.8324 - accuracy: 0.2909\n",
      "Epoch 2/10\n",
      "55/55 [==============================] - 0s 8ms/step - loss: 1.8781 - accuracy: 0.4727\n",
      "Epoch 3/10\n",
      "55/55 [==============================] - 0s 7ms/step - loss: 1.2817 - accuracy: 0.6000\n",
      "Epoch 4/10\n",
      "55/55 [==============================] - 0s 8ms/step - loss: 0.4563 - accuracy: 0.7636\n",
      "Epoch 5/10\n",
      "55/55 [==============================] - 0s 8ms/step - loss: 0.2604 - accuracy: 0.9091\n",
      "Epoch 6/10\n",
      "55/55 [==============================] - 0s 8ms/step - loss: 0.0576 - accuracy: 0.9818\n",
      "Epoch 7/10\n",
      "55/55 [==============================] - 0s 7ms/step - loss: 0.1526 - accuracy: 0.9636\n",
      "Epoch 8/10\n",
      "55/55 [==============================] - 0s 8ms/step - loss: 0.0306 - accuracy: 0.9818\n",
      "Epoch 9/10\n",
      "55/55 [==============================] - 0s 9ms/step - loss: 0.0096 - accuracy: 1.0000\n",
      "Epoch 10/10\n",
      "55/55 [==============================] - 0s 7ms/step - loss: 0.0051 - accuracy: 1.0000\n"
     ]
    }
   ],
   "source": [
    "# Define the CNN model\n",
    "model = Sequential([\n",
    "    Conv1D(filters=8, kernel_size=3, activation='relu', input_shape=(2500, 2)),\n",
    "    MaxPooling1D(pool_size=2),\n",
    "#     Conv1D(filters=64, kernel_size=3, activation='relu'),\n",
    "#     MaxPooling1D(pool_size=2),\n",
    "    Flatten(),\n",
    "#     Dense(64, activation='relu'),\n",
    "    Dense(55, activation='softmax')  \n",
    "])\n",
    "\n",
    "optimizer = RMSprop(learning_rate=0.001)\n",
    "# Compile the model\n",
    "model.compile(optimizer=optimizer, loss='sparse_categorical_crossentropy', metrics=['accuracy'])\n",
    "\n",
    "# Train the model\n",
    "model.fit(data, labels, epochs=10, batch_size=1)\n",
    "\n",
    "# Save the model's summary to a file\n",
    "with open('output.txt', 'w') as f:\n",
    "    model.summary(print_fn=lambda x: f.write(x + '\\n'))\n"
   ]
  }
 ],
 "metadata": {
  "kernelspec": {
   "display_name": "Python 3 (ipykernel)",
   "language": "python",
   "name": "python3"
  },
  "language_info": {
   "codemirror_mode": {
    "name": "ipython",
    "version": 3
   },
   "file_extension": ".py",
   "mimetype": "text/x-python",
   "name": "python",
   "nbconvert_exporter": "python",
   "pygments_lexer": "ipython3",
   "version": "3.9.13"
  }
 },
 "nbformat": 4,
 "nbformat_minor": 5
}
